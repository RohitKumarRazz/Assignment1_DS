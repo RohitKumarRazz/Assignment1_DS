{
  "nbformat": 4,
  "nbformat_minor": 0,
  "metadata": {
    "colab": {
      "provenance": []
    },
    "kernelspec": {
      "name": "python3",
      "display_name": "Python 3"
    },
    "language_info": {
      "name": "python"
    }
  },
  "cells": [
    {
      "cell_type": "code",
      "execution_count": null,
      "metadata": {
        "colab": {
          "base_uri": "https://localhost:8080/"
        },
        "id": "AYLIhCzJ1OzO",
        "outputId": "8d040402-ff8b-44ab-d8f3-5a7367179e57"
      },
      "outputs": [
        {
          "output_type": "stream",
          "name": "stdout",
          "text": [
            "[3, 4, 5, 6]\n"
          ]
        }
      ],
      "source": [
        "import numpy as nm\n",
        "array= [3,4,5,6];\n",
        "print(array)"
      ]
    },
    {
      "cell_type": "code",
      "source": [
        "from google.colab import drive\n",
        "drive.mount('/content/drive')"
      ],
      "metadata": {
        "id": "Il9LB6bFrVbt"
      },
      "execution_count": null,
      "outputs": []
    },
    {
      "cell_type": "markdown",
      "source": [],
      "metadata": {
        "id": "SxA-470Q1yv5"
      }
    },
    {
      "cell_type": "code",
      "source": [
        "import numpy as np\n",
        "import pandas as pd\n",
        "import matplotlib.pyplot as plt\n",
        "\n",
        "x1=([3,4,5])\n",
        "x2=([4,5,8])\n",
        "\n",
        "df1=pd.DataFrame(x1)\n",
        "df2=pd.DataFrame(x2)\n",
        "print(df1)\n",
        "print(df2)\n",
        "plt.pie (x1)\n",
        "plt.show()"
      ],
      "metadata": {
        "colab": {
          "base_uri": "https://localhost:8080/",
          "height": 545
        },
        "id": "Q0iMl3u_1zvA",
        "outputId": "2fa911a0-77b8-4b7a-a019-0c0a1a0eeff4"
      },
      "execution_count": null,
      "outputs": [
        {
          "output_type": "stream",
          "name": "stdout",
          "text": [
            "   0\n",
            "0  3\n",
            "1  4\n",
            "2  5\n",
            "   0\n",
            "0  4\n",
            "1  5\n",
            "2  8\n"
          ]
        },
        {
          "output_type": "display_data",
          "data": {
            "text/plain": [
              "<Figure size 640x480 with 1 Axes>"
            ],
            "image/png": "[encoded data removed]"
          },
          "metadata": {}
        }
      ]
    },
    {
      "cell_type": "code",
      "source": [
        "from pandas.core.arrays import string_\n",
        "import numpy as np\n",
        "import pandas as pd\n",
        "df=pd.read_csv(\"crop_production.csv\")\n",
        "print(df)\n",
        "print(df.head())\n",
        "print(df.info())\n",
        "df[\"state_Name\"]=df['District_Name']\n",
        "print(df)\n",
        "print(df.describe())\n"
      ],
      "metadata": {
        "colab": {
          "base_uri": "https://localhost:8080/"
        },
        "id": "S0P-5keLQc1r",
        "outputId": "9a583cc7-70ee-4cf0-c344-2f766d6e3b8f"
      },
      "execution_count": null,
      "outputs": [
        {
          "output_type": "stream",
          "name": "stdout",
          "text": [
            "                         State_Name District_Name  Crop_Year       Season  \\\n",
            "0       Andaman and Nicobar Islands      NICOBARS       2000  Kharif        \n",
            "1       Andaman and Nicobar Islands      NICOBARS       2000  Kharif        \n",
            "2       Andaman and Nicobar Islands      NICOBARS       2000  Kharif        \n",
            "3       Andaman and Nicobar Islands      NICOBARS       2000  Whole Year    \n",
            "4       Andaman and Nicobar Islands      NICOBARS       2000  Whole Year    \n",
            "...                             ...           ...        ...          ...   \n",
            "246086                  West Bengal       PURULIA       2014  Summer        \n",
            "246087                  West Bengal       PURULIA       2014  Summer        \n",
            "246088                  West Bengal       PURULIA       2014  Whole Year    \n",
            "246089                  West Bengal       PURULIA       2014  Winter        \n",
            "246090                  West Bengal       PURULIA       2014  Winter        \n",
            "\n",
            "                       Crop      Area  Production  \n",
            "0                  Arecanut    1254.0      2000.0  \n",
            "1       Other Kharif pulses       2.0         1.0  \n",
            "2                      Rice     102.0       321.0  \n",
            "3                    Banana     176.0       641.0  \n",
            "4                 Cashewnut     720.0       165.0  \n",
            "...                     ...       ...         ...  \n",
            "246086                 Rice     306.0       801.0  \n",
            "246087              Sesamum     627.0       463.0  \n",
            "246088            Sugarcane     324.0     16250.0  \n",
            "246089                 Rice  279151.0    597899.0  \n",
            "246090              Sesamum     175.0        88.0  \n",
            "\n",
            "[246091 rows x 7 columns]\n",
            "                    State_Name District_Name  Crop_Year       Season  \\\n",
            "0  Andaman and Nicobar Islands      NICOBARS       2000  Kharif        \n",
            "1  Andaman and Nicobar Islands      NICOBARS       2000  Kharif        \n",
            "2  Andaman and Nicobar Islands      NICOBARS       2000  Kharif        \n",
            "3  Andaman and Nicobar Islands      NICOBARS       2000  Whole Year    \n",
            "4  Andaman and Nicobar Islands      NICOBARS       2000  Whole Year    \n",
            "\n",
            "                  Crop    Area  Production  \n",
            "0             Arecanut  1254.0      2000.0  \n",
            "1  Other Kharif pulses     2.0         1.0  \n",
            "2                 Rice   102.0       321.0  \n",
            "3               Banana   176.0       641.0  \n",
            "4            Cashewnut   720.0       165.0  \n",
            "<class 'pandas.core.frame.DataFrame'>\n",
            "RangeIndex: 246091 entries, 0 to 246090\n",
            "Data columns (total 7 columns):\n",
            " #   Column         Non-Null Count   Dtype  \n",
            "---  ------         --------------   -----  \n",
            " 0   State_Name     246091 non-null  object \n",
            " 1   District_Name  246091 non-null  object \n",
            " 2   Crop_Year      246091 non-null  int64  \n",
            " 3   Season         246091 non-null  object \n",
            " 4   Crop           246091 non-null  object \n",
            " 5   Area           246091 non-null  float64\n",
            " 6   Production     242361 non-null  float64\n",
            "dtypes: float64(2), int64(1), object(4)\n",
            "memory usage: 13.1+ MB\n",
            "None\n",
            "                         State_Name District_Name  Crop_Year       Season  \\\n",
            "0       Andaman and Nicobar Islands      NICOBARS       2000  Kharif        \n",
            "1       Andaman and Nicobar Islands      NICOBARS       2000  Kharif        \n",
            "2       Andaman and Nicobar Islands      NICOBARS       2000  Kharif        \n",
            "3       Andaman and Nicobar Islands      NICOBARS       2000  Whole Year    \n",
            "4       Andaman and Nicobar Islands      NICOBARS       2000  Whole Year    \n",
            "...                             ...           ...        ...          ...   \n",
            "246086                  West Bengal       PURULIA       2014  Summer        \n",
            "246087                  West Bengal       PURULIA       2014  Summer        \n",
            "246088                  West Bengal       PURULIA       2014  Whole Year    \n",
            "246089                  West Bengal       PURULIA       2014  Winter        \n",
            "246090                  West Bengal       PURULIA       2014  Winter        \n",
            "\n",
            "                       Crop      Area  Production state_Name  \n",
            "0                  Arecanut    1254.0      2000.0   NICOBARS  \n",
            "1       Other Kharif pulses       2.0         1.0   NICOBARS  \n",
            "2                      Rice     102.0       321.0   NICOBARS  \n",
            "3                    Banana     176.0       641.0   NICOBARS  \n",
            "4                 Cashewnut     720.0       165.0   NICOBARS  \n",
            "...                     ...       ...         ...        ...  \n",
            "246086                 Rice     306.0       801.0    PURULIA  \n",
            "246087              Sesamum     627.0       463.0    PURULIA  \n",
            "246088            Sugarcane     324.0     16250.0    PURULIA  \n",
            "246089                 Rice  279151.0    597899.0    PURULIA  \n",
            "246090              Sesamum     175.0        88.0    PURULIA  \n",
            "\n",
            "[246091 rows x 8 columns]\n",
            "           Crop_Year          Area    Production\n",
            "count  246091.000000  2.460910e+05  2.423610e+05\n",
            "mean     2005.643018  1.200282e+04  5.825034e+05\n",
            "std         4.952164  5.052340e+04  1.706581e+07\n",
            "min      1997.000000  4.000000e-02  0.000000e+00\n",
            "25%      2002.000000  8.000000e+01  8.800000e+01\n",
            "50%      2006.000000  5.820000e+02  7.290000e+02\n",
            "75%      2010.000000  4.392000e+03  7.023000e+03\n",
            "max      2015.000000  8.580100e+06  1.250800e+09\n"
          ]
        }
      ]
    },
    {
      "cell_type": "code",
      "source": [],
      "metadata": {
        "id": "_hsLJifRw1yH"
      },
      "execution_count": null,
      "outputs": []
    },
    {
      "cell_type": "code",
      "source": [
        "import numpy as np\n",
        "import pandas as pd\n",
        "import matplotlib.pyplot as plt\n",
        "\n",
        "df=pd.read_csv(\"crop_production.csv\")\n",
        "print(df.describe())\n",
        "df1=pd.DataFrame(df)\n",
        "print(df1)\n",
        "plt.pie(Crop_Year,Area,production)\n",
        "plt.show()\n"
      ],
      "metadata": {
        "colab": {
          "base_uri": "https://localhost:8080/",
          "height": 842
        },
        "id": "2pRu8PElw9yv",
        "outputId": "a57467ae-df73-4836-e73d-fd7f093fabd7"
      },
      "execution_count": null,
      "outputs": [
        {
          "output_type": "stream",
          "name": "stdout",
          "text": [
            "           Crop_Year          Area    Production\n",
            "count  246091.000000  2.460910e+05  2.423610e+05\n",
            "mean     2005.643018  1.200282e+04  5.825034e+05\n",
            "std         4.952164  5.052340e+04  1.706581e+07\n",
            "min      1997.000000  4.000000e-02  0.000000e+00\n",
            "25%      2002.000000  8.000000e+01  8.800000e+01\n",
            "50%      2006.000000  5.820000e+02  7.290000e+02\n",
            "75%      2010.000000  4.392000e+03  7.023000e+03\n",
            "max      2015.000000  8.580100e+06  1.250800e+09\n",
            "                         State_Name District_Name  Crop_Year       Season  \\\n",
            "0       Andaman and Nicobar Islands      NICOBARS       2000  Kharif        \n",
            "1       Andaman and Nicobar Islands      NICOBARS       2000  Kharif        \n",
            "2       Andaman and Nicobar Islands      NICOBARS       2000  Kharif        \n",
            "3       Andaman and Nicobar Islands      NICOBARS       2000  Whole Year    \n",
            "4       Andaman and Nicobar Islands      NICOBARS       2000  Whole Year    \n",
            "...                             ...           ...        ...          ...   \n",
            "246086                  West Bengal       PURULIA       2014  Summer        \n",
            "246087                  West Bengal       PURULIA       2014  Summer        \n",
            "246088                  West Bengal       PURULIA       2014  Whole Year    \n",
            "246089                  West Bengal       PURULIA       2014  Winter        \n",
            "246090                  West Bengal       PURULIA       2014  Winter        \n",
            "\n",
            "                       Crop      Area  Production  \n",
            "0                  Arecanut    1254.0      2000.0  \n",
            "1       Other Kharif pulses       2.0         1.0  \n",
            "2                      Rice     102.0       321.0  \n",
            "3                    Banana     176.0       641.0  \n",
            "4                 Cashewnut     720.0       165.0  \n",
            "...                     ...       ...         ...  \n",
            "246086                 Rice     306.0       801.0  \n",
            "246087              Sesamum     627.0       463.0  \n",
            "246088            Sugarcane     324.0     16250.0  \n",
            "246089                 Rice  279151.0    597899.0  \n",
            "246090              Sesamum     175.0        88.0  \n",
            "\n",
            "[246091 rows x 7 columns]\n"
          ]
        },
        {
          "output_type": "error",
          "ename": "NameError",
          "evalue": "ignored",
          "traceback": [
            "\u001b[0;31m---------------------------------------------------------------------------\u001b[0m",
            "\u001b[0;31mNameError\u001b[0m                                 Traceback (most recent call last)",
            "\u001b[0;32m<ipython-input-32-fb75e5ef0357>\u001b[0m in \u001b[0;36m<cell line: 9>\u001b[0;34m()\u001b[0m\n\u001b[1;32m      7\u001b[0m \u001b[0mdf1\u001b[0m\u001b[0;34m=\u001b[0m\u001b[0mpd\u001b[0m\u001b[0;34m.\u001b[0m\u001b[0mDataFrame\u001b[0m\u001b[0;34m(\u001b[0m\u001b[0mdf\u001b[0m\u001b[0;34m)\u001b[0m\u001b[0;34m\u001b[0m\u001b[0;34m\u001b[0m\u001b[0m\n\u001b[1;32m      8\u001b[0m \u001b[0mprint\u001b[0m\u001b[0;34m(\u001b[0m\u001b[0mdf1\u001b[0m\u001b[0;34m)\u001b[0m\u001b[0;34m\u001b[0m\u001b[0;34m\u001b[0m\u001b[0m\n\u001b[0;32m----> 9\u001b[0;31m \u001b[0mplt\u001b[0m\u001b[0;34m.\u001b[0m\u001b[0mpie\u001b[0m\u001b[0;34m(\u001b[0m\u001b[0mCrop_Year\u001b[0m\u001b[0;34m,\u001b[0m\u001b[0mArea\u001b[0m\u001b[0;34m,\u001b[0m\u001b[0mproduction\u001b[0m\u001b[0;34m)\u001b[0m\u001b[0;34m\u001b[0m\u001b[0;34m\u001b[0m\u001b[0m\n\u001b[0m\u001b[1;32m     10\u001b[0m \u001b[0mplt\u001b[0m\u001b[0;34m.\u001b[0m\u001b[0mshow\u001b[0m\u001b[0;34m(\u001b[0m\u001b[0;34m)\u001b[0m\u001b[0;34m\u001b[0m\u001b[0;34m\u001b[0m\u001b[0m\n",
            "\u001b[0;31mNameError\u001b[0m: name 'Crop_Year' is not defined"
          ]
        }
      ]
    },
    {
      "cell_type": "code",
      "source": [],
      "metadata": {
        "id": "6AuSEiNh_1BE"
      },
      "execution_count": null,
      "outputs": []
    },
    {
      "cell_type": "code",
      "source": [
        "import numpy as np\n",
        "import matplotlib.pyplot as plt\n",
        "x=[3,4,5]\n",
        "y=[4,6,9]\n",
        "z=[9,8,7]\n",
        "plt.plot(x, y , z)\n",
        "plt.xlabel('X Axis Label')\n",
        "plt.ylabel('Y Axis Label')\n",
        "plt.zlabel('z Axis Label')\n",
        "plt.title('Line Plot')\n",
        "plt.show()"
      ],
      "metadata": {
        "colab": {
          "base_uri": "https://localhost:8080/",
          "height": 667
        },
        "id": "1h-vnyoY5XwT",
        "outputId": "3a46f41e-d7ed-4c8c-ff73-b5325114b5b0"
      },
      "execution_count": null,
      "outputs": [
        {
          "output_type": "error",
          "ename": "AttributeError",
          "evalue": "ignored",
          "traceback": [
            "\u001b[0;31m---------------------------------------------------------------------------\u001b[0m",
            "\u001b[0;31mAttributeError\u001b[0m                            Traceback (most recent call last)",
            "\u001b[0;32m<ipython-input-35-355c2c2d7b0d>\u001b[0m in \u001b[0;36m<cell line: 9>\u001b[0;34m()\u001b[0m\n\u001b[1;32m      7\u001b[0m \u001b[0mplt\u001b[0m\u001b[0;34m.\u001b[0m\u001b[0mxlabel\u001b[0m\u001b[0;34m(\u001b[0m\u001b[0;34m'X Axis Label'\u001b[0m\u001b[0;34m)\u001b[0m\u001b[0;34m\u001b[0m\u001b[0;34m\u001b[0m\u001b[0m\n\u001b[1;32m      8\u001b[0m \u001b[0mplt\u001b[0m\u001b[0;34m.\u001b[0m\u001b[0mylabel\u001b[0m\u001b[0;34m(\u001b[0m\u001b[0;34m'Y Axis Label'\u001b[0m\u001b[0;34m)\u001b[0m\u001b[0;34m\u001b[0m\u001b[0;34m\u001b[0m\u001b[0m\n\u001b[0;32m----> 9\u001b[0;31m \u001b[0mplt\u001b[0m\u001b[0;34m.\u001b[0m\u001b[0mzlabel\u001b[0m\u001b[0;34m(\u001b[0m\u001b[0;34m'z Axis Label'\u001b[0m\u001b[0;34m)\u001b[0m\u001b[0;34m\u001b[0m\u001b[0;34m\u001b[0m\u001b[0m\n\u001b[0m\u001b[1;32m     10\u001b[0m \u001b[0mplt\u001b[0m\u001b[0;34m.\u001b[0m\u001b[0mtitle\u001b[0m\u001b[0;34m(\u001b[0m\u001b[0;34m'Line Plot'\u001b[0m\u001b[0;34m)\u001b[0m\u001b[0;34m\u001b[0m\u001b[0;34m\u001b[0m\u001b[0m\n\u001b[1;32m     11\u001b[0m \u001b[0mplt\u001b[0m\u001b[0;34m.\u001b[0m\u001b[0mshow\u001b[0m\u001b[0;34m(\u001b[0m\u001b[0;34m)\u001b[0m\u001b[0;34m\u001b[0m\u001b[0;34m\u001b[0m\u001b[0m\n",
            "\u001b[0;31mAttributeError\u001b[0m: module 'matplotlib.pyplot' has no attribute 'zlabel'"
          ]
        },
        {
          "output_type": "display_data",
          "data": {
            "text/plain": [
              "<Figure size 640x480 with 1 Axes>"
            ],
            "image/png": "[encoded data removed]"
          },
          "metadata": {}
        }
      ]
    }
  ]
}